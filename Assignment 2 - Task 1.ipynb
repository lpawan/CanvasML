{
 "cells": [
  {
   "cell_type": "markdown",
   "metadata": {},
   "source": [
    "1.1\n",
    "Write a Python Program to implement your own myreduce() function which works exactly like\n",
    "Python's built-in function reduce()"
   ]
  },
  {
   "cell_type": "code",
   "execution_count": 10,
   "metadata": {},
   "outputs": [],
   "source": [
    "def myreduce(func, lst):\n",
    "    result = lst[0]\n",
    "    for i in lst[1:]:\n",
    "        result = func(result, i)\n",
    "    return result"
   ]
  },
  {
   "cell_type": "code",
   "execution_count": 15,
   "metadata": {},
   "outputs": [
    {
     "name": "stdout",
     "output_type": "stream",
     "text": [
      "Sum of the list [1,2,3,4] using myreduce function is: 10\n"
     ]
    }
   ],
   "source": [
    "#testing myreduce function\n",
    "def sum(x,y):\n",
    "    return (x+y)\n",
    "\n",
    "print('Sum of the list [1,2,3,4] using myreduce function is: ' +str(myreduce(sum,[1,2,3,4])))"
   ]
  },
  {
   "cell_type": "markdown",
   "metadata": {},
   "source": [
    "1.2\n",
    "Write a Python program to implement your own myfilter() function which works exactly like\n",
    "Python's built-in function filter()"
   ]
  },
  {
   "cell_type": "code",
   "execution_count": 18,
   "metadata": {},
   "outputs": [],
   "source": [
    "def myfilter(func,lst):\n",
    "    result = []\n",
    "    for i in lst:\n",
    "        if func(i):\n",
    "            result.append(i)\n",
    "    return result"
   ]
  },
  {
   "cell_type": "code",
   "execution_count": 24,
   "metadata": {},
   "outputs": [
    {
     "name": "stdout",
     "output_type": "stream",
     "text": [
      "Filter only even numbers on list [1,2,3,4,5,6,7,8] using custom filter function [2, 4, 6, 8]\n"
     ]
    }
   ],
   "source": [
    "def even_check(num):\n",
    "    if num%2 ==0:\n",
    "        return True\n",
    "    \n",
    "print('Filter only even numbers on list [1,2,3,4,5,6,7,8] using custom filter function ' +str(myfilter(even_check,[1,2,3,4,5,6,7,8])))"
   ]
  },
  {
   "cell_type": "markdown",
   "metadata": {},
   "source": [
    "2.\n",
    "Implement List comprehensions to produce the following lists.\n",
    "\n",
    "Write List comprehensions to produce the following Lists\n",
    "\n",
    "['A', 'C', 'A', 'D', 'G', 'I', ’L’, ‘ D’]\n",
    "\n",
    "['x', 'xx', 'xxx', 'xxxx', 'y', 'yy', 'yyy', 'yyyy', 'z', 'zz', 'zzz', 'zzzz']\n",
    "\n",
    "['x', 'y', 'z', 'xx', 'yy', 'zz', 'xx', 'yy', 'zz', 'xxxx', 'yyyy', 'zzzz']\n",
    "\n",
    "[[2], [3], [4], [3], [4], [5], [4], [5], [6]]\n",
    "\n",
    "[[2, 3, 4, 5], [3, 4, 5, 6], [4, 5, 6, 7], [5, 6, 7, 8]]\n",
    "\n",
    "[(1, 1), (2, 1), (3, 1), (1, 2), (2, 2), (3, 2), (1, 3), (2, 3), (3, 3)]"
   ]
  },
  {
   "cell_type": "code",
   "execution_count": 6,
   "metadata": {},
   "outputs": [
    {
     "name": "stdout",
     "output_type": "stream",
     "text": [
      "['A', 'C', 'A', 'D', 'G', 'I', 'L', 'D']\n",
      "\n",
      "\n",
      "['x', 'xx', 'xxx', 'xxxx', 'y', 'yy', 'yyy', 'yyyy', 'z', 'zz', 'zzz', 'zzzz']\n",
      "\n",
      "\n",
      "['x', 'y', 'z', 'xx', 'yy', 'zz', 'xxx', 'yyy', 'zzz', 'xxxx', 'yyyy', 'zzzz']\n",
      "\n",
      "\n",
      "[[2], [3], [4], [3], [4], [5], [4], [5], [6]]\n",
      "\n",
      "\n",
      "[[2, 3, 4, 5], [3, 4, 5, 6], [4, 5, 6, 7], [5, 6, 7, 8]]\n",
      "\n",
      "\n",
      "[(1, 1), (2, 1), (3, 1), (1, 2), (2, 2), (3, 2), (1, 3), (2, 3), (3, 3)]\n"
     ]
    }
   ],
   "source": [
    "acadgild = [letter for letter in 'ACADGILD']\n",
    "print(acadgild)\n",
    "print('\\n')\n",
    "\n",
    "l = ['x','y','z']\n",
    "l1 = [l[0]*row for row in range(1,5)]\n",
    "l2 = [l[1]*row for row in range(1,5)]\n",
    "l3 = [l[2]*row for row in range(1,5)]\n",
    "print(l1+l2+l3)\n",
    "print('\\n')\n",
    "\n",
    "matrix = [l1,l2,l3]\n",
    "matrix\n",
    "first_col = [row[0] for row in matrix]\n",
    "sec_col = [row[1] for row in matrix]\n",
    "third_col = [row[2] for row in matrix]\n",
    "forth_col = [row[3] for row in matrix]\n",
    "print(first_col+sec_col+third_col+forth_col)\n",
    "print('\\n')\n",
    "\n",
    "l = [[2],[3],[4],[5],[6]]\n",
    "l1 = [l[i] for i in range(3) ]\n",
    "l2 = [l[i+1] for i in range(3) ]\n",
    "l3 = [l[i+2] for i in range(3) ]\n",
    "print(l1+l2+l3)\n",
    "print('\\n')\n",
    "\n",
    "l = [2,3,4,5,6,7,8]\n",
    "l1 = [l[i] for i in range(0,4) ]\n",
    "l2 = [l[i] for i in range(1,5) ]\n",
    "l3 = [l[i] for i in range(2,6) ]\n",
    "l4 = [l[i] for i in range(3,7) ]\n",
    "list =[l1,l2,l3,l4]\n",
    "print(list)\n",
    "print('\\n')\n",
    "\n",
    "l = [1,2,3,4,5,6,7,8]\n",
    "l1 = [(l[i],1) for i in range(0,3) ]\n",
    "l2 = [(l[i],2) for i in range(0,3) ]\n",
    "l3 = [(l[i],3) for i in range(0,3) ]\n",
    "list = l1+l2+l3\n",
    "print(list)"
   ]
  },
  {
   "cell_type": "markdown",
   "metadata": {},
   "source": [
    "3. Implement a function longestWord() that takes a list of words and returns the longest one."
   ]
  },
  {
   "cell_type": "code",
   "execution_count": 3,
   "metadata": {},
   "outputs": [
    {
     "name": "stdout",
     "output_type": "stream",
     "text": [
      "length of longest string in list is:  lakhotia\n"
     ]
    }
   ],
   "source": [
    "count = []\n",
    "l1 = ['a','pawan','','lakhotia','sudh']\n",
    "def longestWord(l):\n",
    "    for i in l:\n",
    "        count.append(len(i))\n",
    "    return l[count.index(max(count))]\n",
    "\n",
    "def max(l):\n",
    "    myMax = l[0]\n",
    "    for num in l:\n",
    "        if myMax < num:\n",
    "            myMax = num\n",
    "    return myMax\n",
    "\n",
    "print('length of longest string in list is: ',longestWord(l1))"
   ]
  }
 ],
 "metadata": {
  "kernelspec": {
   "display_name": "Python 3",
   "language": "python",
   "name": "python3"
  },
  "language_info": {
   "codemirror_mode": {
    "name": "ipython",
    "version": 3
   },
   "file_extension": ".py",
   "mimetype": "text/x-python",
   "name": "python",
   "nbconvert_exporter": "python",
   "pygments_lexer": "ipython3",
   "version": "3.7.4"
  }
 },
 "nbformat": 4,
 "nbformat_minor": 2
}

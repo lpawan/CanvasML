{
 "cells": [
  {
   "cell_type": "markdown",
   "metadata": {},
   "source": [
    "1.1 Write a Python Program(with class concepts) to find the area of the triangle using the below\n",
    "formula.\n",
    "area = (s*(s-a)*(s-b)*(s-c)) ** 0.5\n",
    "Function to take the length of the sides of triangle from user should be defined in the parent\n",
    "class and function to calculate the area should be defined in subclass."
   ]
  },
  {
   "cell_type": "code",
   "execution_count": 2,
   "metadata": {},
   "outputs": [
    {
     "name": "stdout",
     "output_type": "stream",
     "text": [
      "Enter value of side a: 2\n",
      "Enter value of side b: 3\n",
      "Enter value of side b: 4\n",
      "2.9047375096555625\n"
     ]
    }
   ],
   "source": [
    "class Triangle(object):\n",
    "\n",
    "    def __init__(self):\n",
    "        self.a = float(input('Enter value of side a: '))\n",
    "        self.b = float(input('Enter value of side b: '))\n",
    "        self.c = float(input('Enter value of side b: '))\n",
    "\n",
    "\n",
    "class Area(Triangle):\n",
    "\n",
    "    def __init__(self):\n",
    "        super(Area,self).__init__()\n",
    "        self.s = float((self.a + self.b + self.c)/2)\n",
    "\n",
    "    def printDataAndString(self):\n",
    "        print((self.s*(self.s-self.a)*(self.s-self.b)*(self.s-self.c))** 0.5)\n",
    "\n",
    "\n",
    "c = Area()\n",
    "c.printDataAndString()"
   ]
  },
  {
   "cell_type": "markdown",
   "metadata": {},
   "source": [
    "1.2 Write a function filter_long_words() that takes a list of words and an integer n and returns the list\n",
    "of words that are longer than n."
   ]
  },
  {
   "cell_type": "code",
   "execution_count": 3,
   "metadata": {},
   "outputs": [
    {
     "name": "stdout",
     "output_type": "stream",
     "text": [
      "enter a word: pawan\n",
      "enter a word: kumar\n",
      "enter a word: lakhotia\n",
      "enter a word: sudh\n",
      "enter a word: aa\n",
      "enter a word: a\n",
      "enter a word: aaaa\n",
      "enter a word: Quit\n",
      "Enter a number: 4\n",
      "['pawan', 'kumar', 'lakhotia']\n"
     ]
    }
   ],
   "source": [
    "def fun(lst,n):\n",
    "    lst2 = []\n",
    "    for i in range(len(lst)):\n",
    "        if len(lst[i]) > n:\n",
    "            lst2.append(lst[i])\n",
    "    print(lst2)\n",
    "\n",
    "    \n",
    "lst = []\n",
    "val = ''\n",
    "for i in range(100):\n",
    "    val = input('enter a word: ')\n",
    "    if (val == 'quit') or (val == 'Quit'):\n",
    "        break\n",
    "    else:\n",
    "        lst.append(val)\n",
    "n = int(input('Enter a number: '))\n",
    "#print(lst)    \n",
    "fun(lst,n)"
   ]
  },
  {
   "cell_type": "markdown",
   "metadata": {},
   "source": [
    "2.1 Write a Python program using function concept that maps list of words into a list of integers\n",
    "representing the lengths of the corresponding words .\n",
    "Hint: If a list [ ab,cde,erty] is passed on to the python function output should come as [2,3,4]\n",
    "Here 2,3 and 4 are the lengths of the words in the list."
   ]
  },
  {
   "cell_type": "code",
   "execution_count": 4,
   "metadata": {},
   "outputs": [
    {
     "name": "stdout",
     "output_type": "stream",
     "text": [
      "enter a word: pawan\n",
      "enter a word: kumar\n",
      "enter a word: \n",
      "enter a word: sudh\n",
      "enter a word: i\n",
      "enter a word: we\n",
      "enter a word: quit\n",
      "[5, 5, 0, 4, 1, 2]\n"
     ]
    }
   ],
   "source": [
    "def maps(lst):\n",
    "    op = []\n",
    "    for i in range(len(lst)):\n",
    "        op.append(len(lst[i]))\n",
    "    print(op)\n",
    "    \n",
    "lst = []\n",
    "val = ''\n",
    "for i in range(100):\n",
    "    val = input('enter a word: ')\n",
    "    if (val == 'quit') or (val == 'Quit'):\n",
    "        break\n",
    "    else:\n",
    "        lst.append(val)\n",
    "maps(lst)"
   ]
  },
  {
   "cell_type": "markdown",
   "metadata": {},
   "source": [
    "2.2 Write a Python function which takes a character (i.e. a string of length 1) and returns True if it is\n",
    "a vowel, False otherwise."
   ]
  },
  {
   "cell_type": "code",
   "execution_count": 5,
   "metadata": {},
   "outputs": [
    {
     "name": "stdout",
     "output_type": "stream",
     "text": [
      "Enter a character: q\n",
      "False\n"
     ]
    }
   ],
   "source": [
    "def func(ch):\n",
    "    v = ['a','e','i','o','u','A','E','I','O','U']\n",
    "    if ch in v:\n",
    "        return True\n",
    "    else:\n",
    "        return False\n",
    "c = input('Enter a character: ')\n",
    "print(func(c))"
   ]
  }
 ],
 "metadata": {
  "kernelspec": {
   "display_name": "Python 3",
   "language": "python",
   "name": "python3"
  },
  "language_info": {
   "codemirror_mode": {
    "name": "ipython",
    "version": 3
   },
   "file_extension": ".py",
   "mimetype": "text/x-python",
   "name": "python",
   "nbconvert_exporter": "python",
   "pygments_lexer": "ipython3",
   "version": "3.7.4"
  }
 },
 "nbformat": 4,
 "nbformat_minor": 2
 
}

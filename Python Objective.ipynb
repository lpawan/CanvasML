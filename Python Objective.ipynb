{
 "cells": [
  {
   "cell_type": "raw",
   "metadata": {},
   "source": [
    "Q1. How can we create an iterable object from a list? \n",
    "a) Bypassing the given list to the iter() function\n",
    "b) By using a for a loop.\n",
    "c) By using a while loop.\n",
    "d) You cannot create an iterable object\n",
    "\n",
    "Ans: A"
   ]
  },
  {
   "cell_type": "raw",
   "metadata": {},
   "source": [
    "Q2. If the function contains at least of one “yield” statement, then it becomes ______ Choose one\n",
    "a) An iterable\n",
    "b) a generator function\n",
    "c) an anonymous function\n",
    "d) None of the above\n",
    "\n",
    "Ans: B"
   ]
  },
  {
   "cell_type": "raw",
   "metadata": {},
   "source": [
    "Q3. What is the output of the code?\n",
    "1. mylist = [1, 3, 6, 10] \n",
    "2. a = (x**2 for x in mylist) \n",
    "3. print(next(a), next(a))\n",
    "\n",
    "a) 1 3\n",
    "b) 1 9\n",
    "c) 1 9 36 100\n",
    "d) 1\n",
    "\n",
    "Ans: B"
   ]
  },
  {
   "cell_type": "raw",
   "metadata": {},
   "source": [
    "Q4. What are the criteria that must be met to create closure in Python?\n",
    "a) The program Must have the function inside the function.\n",
    "b) The nested function must refer to the value defined in the enclosing function.\n",
    "c) The enclosing function must return the nested\n",
    "d) All of the above.\n",
    "\n",
    "Ans: D"
   ]
  },
  {
   "cell_type": "raw",
   "metadata": {},
   "source": [
    "Q5. What is the output of the code?\n",
    "1. def Foo(n): \n",
    "    2. def multiplier(x): \n",
    "        3. return x * n \n",
    "    4. return multiplier \n",
    "5. \n",
    "6. a = Foo(5) \n",
    "7. b = Foo(5) \n",
    "8. \n",
    "9. print(a(b(2)))\n",
    "\n",
    "a) 25.\n",
    "b) 100\n",
    "c) 10\n",
    "d) 50\n",
    "\n",
    "Ans: D"
   ]
  },
  {
   "cell_type": "raw",
   "metadata": {},
   "source": [
    "Q6. What is the output of the code?\n",
    "1. def make_pretty(func): \n",
    "    2. def inner(): \n",
    "        3. print(\"I got decorated\") \n",
    "        4. func() \n",
    "        5. return inner \n",
    "    6. \n",
    "    7. def ordinary(): \n",
    "        8. print(\"I am ordinary\") \n",
    "        9. \n",
    "        10. pretty = make_pretty(ordinary) \n",
    "        11. pretty()\n",
    "        \n",
    "a) I got decorated \n",
    "b) I am pretty \n",
    "c) I got decorated \n",
    "   I am ordinary\n",
    "d) I am ordinary I got decorated\n",
    "\n",
    "Ans: "
   ]
  },
  {
   "cell_type": "raw",
   "metadata": {},
   "source": [
    "Q7: What is the more pythonic way to use getters and setters?\n",
    "a) Decorators\n",
    "b) Generators.\n",
    "c) Iterators\n",
    "d) @property\n",
    "\n",
    "Ans: D"
   ]
  },
  {
   "cell_type": "code",
   "execution_count": null,
   "metadata": {},
   "outputs": [],
   "source": [
    "Q8. In Python, there is a built-in function property() that returns a property object. The property object has which of the methods?\n",
    "a) getter() and setter()\n",
    "b) getter(), setter() and delete()\n",
    "c) getter() and delete()\n",
    "d) setter() and delete()\n",
    "\n",
    "Ans: B"
   ]
  },
  {
   "cell_type": "code",
   "execution_count": null,
   "metadata": {},
   "outputs": [],
   "source": [
    "Q9. Which of the following statement is true? \n",
    "a) You cannot chain multiple decorators in Python. \n",
    "b) Decorators don’t work with functions that take parameters. \n",
    "c) The @ symbol doesn’t have any use while using decorators. \n",
    "d) None of the above\n",
    "\n",
    "Ans: "
   ]
  },
  {
   "cell_type": "raw",
   "metadata": {},
   "source": [
    "Q10. For the following codes, which of the following statements is true?\n",
    "1. def printHello(): \n",
    "    2. print(\"Hello\") \n",
    "    3. a = printHello()\n",
    "    \n",
    "a) Print Hello() is a function, and a is a variable. None of them are objects.\n",
    "b) Both printHello() and the reference to the same object.\n",
    "c) Print Hello() and the reference to different objects.\n",
    "d) Syntax error! You cannot assign function\n",
    "\n",
    "Ans: B"
   ]
  },
  {
   "cell_type": "raw",
   "metadata": {},
   "source": [
    "Q11. What is the output of the program? \n",
    "1. def outerFunction(): \n",
    "    2. global a \n",
    "    3. a = 20 \n",
    "    4. def innerFunction(): \n",
    "        5. global a \n",
    "        6. a = 30 \n",
    "        7. print('a =', a) \n",
    "8. a = 10 \n",
    "9. outerFunction() \n",
    "10. print('a =', a)\n",
    "\n",
    "a) a = 10 a = 30\n",
    "b) a = 10\n",
    "c) a = 2\n",
    "d) a = 30 \n",
    "\n",
    "Ans: 20"
   ]
  },
  {
   "cell_type": "raw",
   "metadata": {},
   "source": [
    "Q12. Which of the following statements is true?\n",
    "a) A class is a blueprint for the object.\n",
    "b) You can only make the single object from the given class\n",
    "c) Both statements are true.\n",
    "d) Neither statement is true.\n",
    "\n",
    "Ans: A"
   ]
  },
  {
   "cell_type": "raw",
   "metadata": {},
   "source": [
    "Q13. What is the output of the code?\n",
    "1. class Foo: \n",
    "    2. def printLine(self, line='Python'): \n",
    "        3. print(line) \n",
    "        4. \n",
    "        5. o1 = Foo() \n",
    "        6. o1.printLine('Java')\n",
    "        \n",
    "a) Python\n",
    "b) Line\n",
    "c) Java\n",
    "d) Java Python\n",
    "\n",
    "Ans: A"
   ]
  },
  {
   "cell_type": "code",
   "execution_count": null,
   "metadata": {},
   "outputs": [],
   "source": [
    "Q14. What is the function of the __init__() function in Python?\n",
    "a) Initialises the class for use.\n",
    "b) This function is called, when the new object is instantiated\n",
    "c) Initialises all the data attributes to zero when called\n",
    "d) None of the above.\n",
    "\n",
    "Ans: C"
   ]
  },
  {
   "cell_type": "raw",
   "metadata": {},
   "source": [
    "Q15. What is the output of the code?\n",
    "1. class Point: 2. def __init__(self, x = 0, y = 0): 3. self.x = x+1 4. self.y = y+1 5. 6. p1 = Point() 7. print(p1.x, p1.y)\n",
    "a) 0 0\n",
    "b) 1 1\n",
    "c) None None\n",
    "d) x y\n",
    "\n",
    "Ans: B"
   ]
  },
  {
   "cell_type": "raw",
   "metadata": {},
   "source": [
    "Q16. Which of the following code used the inheritance feature? \n",
    "a) 1. Class Foo: \n",
    "        Pass \n",
    "b) 1. class Foo(object): \n",
    "    2. pass \n",
    "    3. class Hoo(object): \n",
    "        pass \n",
    "c) 1. class Foo: \n",
    "    2. pass \n",
    "    3. class Hoo(Foo): \n",
    "        pass\n",
    "d) None of the above code.\n",
    "\n",
    "Ans: C"
   ]
  },
  {
   "cell_type": "raw",
   "metadata": {},
   "source": [
    "Q17 If you a class is derived from two different classes, it’s called ______\n",
    "a) Multilevel inheritance\n",
    "b) Multiple Inheritance\n",
    "c) Hierarchical Inheritance\n",
    "d) Python Inheritance\n",
    "\n",
    "Ans: B"
   ]
  },
  {
   "cell_type": "raw",
   "metadata": {},
   "source": [
    "Q18. Which of the following statements is true?\n",
    "a) In Python, the same operator may behave differently depends upon the operands.\n",
    "b) You can change the way operators which behave in Python.\n",
    "c) Special method __add()__ is called when + operator\n",
    "d) All of the above.\n",
    "\n",
    "Ans: D"
   ]
  },
  {
   "cell_type": "raw",
   "metadata": {},
   "source": [
    "Q19. What is the output of the code? \n",
    "1. class Point: \n",
    "2.\n",
    "    3. def __init__(self, x = 0, y = 0): \n",
    "        4. self.x = x \n",
    "        5. self.y = y \n",
    "        6. \n",
    "        7. def __sub__(self, other): \n",
    "            8. x = self.x + other.x \n",
    "            9. y = self.y + other.y \n",
    "            10. return Point(x,y) \n",
    "        11. \n",
    "        12. p1 = Point(3, 4) \n",
    "        13. p2 = Point(1, 2) \n",
    "        14. result = p1-p2 \n",
    "        15. print(result.x, result.y)\n",
    "a) 2 2\n",
    "b) 4 6\n",
    "c) 0 0\n",
    "d) 1 1\n",
    "\n",
    "Ans: B"
   ]
  },
  {
   "cell_type": "raw",
   "metadata": {},
   "source": [
    "Q20. Opening a file in ‘a’ mode\n",
    "a) opens a file for reading\n",
    "b) opens a file for writing\n",
    "c) opens the file for appending, at the end of file\n",
    "d) opens a file for exclusive creation\n",
    "\n",
    "Ans: C"
   ]
  },
  {
   "cell_type": "raw",
   "metadata": {},
   "source": [
    "Q21. What does the following code do? f = open(\"test.txt\")\n",
    "a) Opens test.txt file for both reading and writing\n",
    "b) Opens test.txt file for reading only\n",
    "c) Opens test.txt file for writing only\n",
    "d) Opens test.txt file in god mode\n",
    "\n",
    "Ans: B"
   ]
  },
  {
   "cell_type": "raw",
   "metadata": {},
   "source": [
    "Q22. Which of the codes closes files automatically if an exception occurs? Choose one \n",
    "a) 1. with open(\"test.txt\", encoding = 'utf-8') as f: \n",
    "    2. # perform file operation\n",
    "b) 1. try: \n",
    "    2. f = open(\"test.txt\",encoding = 'utf-8') \n",
    "    3. # perform file operations \n",
    "    4. finally: \n",
    "        5. f.close()\n",
    "c) None of the above\n",
    "d) Both of the above\n",
    "\n",
    "Ans: C"
   ]
  },
  {
   "cell_type": "raw",
   "metadata": {},
   "source": [
    "Q23. For the following code, \n",
    "1. f = open('test.txt', 'r', encoding = 'utf-8') \n",
    "2. f.read() Which of the following statement is true\n",
    "\n",
    "a) This program reads the content of the test.txt file.\n",
    "b) If test.txt contains a newline, read() will return the newline as ‘\\n’.\n",
    "c) You can pass an integer to the read() method\n",
    "d) All of the above.\n",
    "\n",
    "Ans: D"
   ]
  },
  {
   "cell_type": "raw",
   "metadata": {},
   "source": [
    "Q24. What does the following code do? os.listdir()\n",
    "a) Prints the current working directory.\n",
    "b) Prints the current working directory.\n",
    "c) Prints all the directories and files inside the given directory\n",
    "d) Make a new directory\n",
    "\n",
    "Ans: C"
   ]
  },
  {
   "cell_type": "raw",
   "metadata": {},
   "source": [
    "Q25. Which of the following is correct?\n",
    "a) An exception is an error that occurs in the runtime.\n",
    "b) A syntax error is also an exception.\n",
    "c) An exception is used to exclude a block of code in python.\n",
    "d) All of the above.\n",
    "\n",
    "Ans: D"
   ]
  },
  {
   "cell_type": "raw",
   "metadata": {},
   "source": [
    "Q26. What will happen if we try to open the file that doesn’t exist?\n",
    "a) A new file is created.\n",
    "b) Nothing will happen.\n",
    "c) An exception is raised.\n",
    "d) None of the above\n",
    "\n",
    "ANs: C"
   ]
  },
  {
   "cell_type": "raw",
   "metadata": {},
   "source": [
    "Q27. What is the output of the code?\n",
    "1. number = 5.0 \n",
    "2. try: \n",
    "    3. r = 10/number \n",
    "    4. print(r) \n",
    "    5. except: \n",
    "        6. print(\"Oops! Error occurred.\")\n",
    "        \n",
    "a) Oops! Error occurred\n",
    "b) 2.0\n",
    "c) 2.0 Oops! Error occurred.\n",
    "d) None object\n",
    "\n",
    "Ans: B"
   ]
  },
  {
   "cell_type": "raw",
   "metadata": {},
   "source": [
    "Q28. What does the following code do?\n",
    "1. try: \n",
    "    2. # code that can raise an error \n",
    "    3. pass \n",
    "4. \n",
    "5. except (TypeError, ZeroDivisionError): \n",
    "    6. print(\"Two\")\n",
    "    \n",
    "a) Prints Two if an exception occurs (doesn’t matter which exception).\n",
    "b) Prints Two if exception doesn’t occur.\n",
    "c) Prints Two if the TypeError or ZeroDivisionError exception occurs.\n",
    "d) Prints Two only if both TypeError and ZeroDivisionError exception occur.\n",
    "\n",
    "Ans: C"
   ]
  },
  {
   "cell_type": "raw",
   "metadata": {},
   "source": [
    "Q29. Which of the following statement is true? \n",
    "a) You cannot create custom exceptions in Python. \n",
    "b) You can create the user-defined exception by deriving a class from Exception class. \n",
    "c) You can create a user-defined exception by deriving a class from Error class. \n",
    "d) None of the above.\n",
    "\n",
    "Ans: B"
   ]
  },
  {
   "cell_type": "raw",
   "metadata": {},
   "source": [
    "Q30. Which of the following statement is true?\n",
    "a) Functions are used to create objects in Python. \n",
    "b) Functions make your program run faster. \n",
    "c) The function is a piece of code that can perform a specific task.\n",
    "d) All of the above\n",
    "\n",
    "Ans: B"
   ]
  },
  {
   "cell_type": "raw",
   "metadata": {},
   "source": [
    "Q31. What is the output of the code? \n",
    "1. def printLine(text): \n",
    "    2. print(text, 'is awesome.') \n",
    "    3. \n",
    "    4. printLine('Python')\n",
    "    \n",
    "a) Python \n",
    "b) Python is awesome. \n",
    "c) Text is awesome.\n",
    "d) Is awesome.\n",
    "\n",
    "Ans: B"
   ]
  },
  {
   "cell_type": "raw",
   "metadata": {},
   "source": [
    "Q32. If the return statement is not used inside the function, the function will return:\n",
    "a)\t0\n",
    "b)\tNone object\n",
    "c)\tan arbitrary integer\n",
    "d)\tError! Functions in Python must have a return statement.\n",
    "\n",
    "Ans: B"
   ]
  },
  {
   "cell_type": "raw",
   "metadata": {},
   "source": [
    "Q33. What is the output of the code?\n",
    "\n",
    "a)\tHello Frodo Hello Sauron\n",
    "b)\tHello ('Frodo', 'Sauron')\n",
    "c)\tHello Frodo\n",
    "d)\tSyntax Error! Great person() can take only one argument.\n",
    "\n",
    "Ans: B\n"
   ]
  },
  {
   "cell_type": "raw",
   "metadata": {},
   "source": [
    "Q34. What is a recursive function?\n",
    "\n",
    " \n",
    "Choose one\n",
    " \n",
    "\n",
    "a)\tA function that calls all the functions in the program.\n",
    "b)\tA function that calls itself.\n",
    "c)\tA function that that calls all the functions in the program except itself.\n",
    "d)\tThere is no such thing as a recursive function in Python.\n",
    "\n",
    "Ans: B"
   ]
  },
  {
   "cell_type": "raw",
   "metadata": {},
   "source": [
    "Q35. What is the output of the program?\n",
    "\n",
    "1.\n",
    "2.\tresult = lambda x: x * x\t\n",
    "\tprint(result(5))\t\n",
    "a)\tlambda x: x*x\n",
    "b)\t10\n",
    "c)\t25\n",
    "d) 5*5\n",
    "\n",
    "\n",
    "Ans: C"
   ]
  },
  {
   "cell_type": "raw",
   "metadata": {},
   "source": [
    "Q36. What is the output of the program?\n",
    "\n",
    "\n",
    "a)\t10\n",
    "b)\t24\n",
    "c)\t7\n",
    "d)\t1\n",
    "\n",
    "Ans: C"
   ]
  },
  {
   "cell_type": "raw",
   "metadata": {},
   "source": [
    "Q37. Suppose you need to print pi constant defined in the math module. Which of the following code can do this task?\n",
    "\n",
    "\n",
    "a)\tprint(math.pi)\n",
    "b)\tprint(pi) \n",
    "c)from math import pi print(math.pi)\n",
    "d)from math import pi print(math.pi)\n",
    "\n",
    "Ans: D\n"
   ]
  },
  {
   "cell_type": "raw",
   "metadata": {},
   "source": [
    "Q38. Which operator is used in Python to import modules from the packages?\n",
    "\n",
    " \n",
    "Choose one\n",
    " \n",
    "\n",
    "a). operator\n",
    "b)\t* operator\n",
    "c)\t-> symbol\n",
    "d)\t, operator\n",
    "\n",
    "Ans: A"
   ]
  },
  {
   "cell_type": "raw",
   "metadata": {},
   "source": [
    "Q39. What is the output of the code?\n",
    "\n",
    "\n",
    "\n",
    "1.\tnumbers = [1, 3, 6]\t\n",
    "2.\tnewNumbers = tuple(map(lambda x: x , numbers))\t\n",
    "3.\tprint(newNumbers)\t\n",
    "\n",
    "a) [1, 3, 6]\n",
    "b) (1, 3, 6)\n",
    "c) [2, 6, 12]\n",
    "d) (2, 6, 12)\n",
    "\n",
    "Ans: B"
   ]
  },
  {
   "cell_type": "raw",
   "metadata": {},
   "source": [
    "Q40. What is the output of the code?\n",
    "\n",
    "\n",
    "\n",
    "1.\n",
    "2.\tif None:\t\n",
    "\tprint(“Hello”)\t\n",
    "\n",
    "a)\tFalse\n",
    "b)\tHello\n",
    "c)\tNothing will be printed\n",
    "d)\tSyntax error\n",
    "\n",
    "Ans: C"
   ]
  },
  {
   "cell_type": "raw",
   "metadata": {},
   "source": [
    "Q41. The if-elif-else executes only one block of code among several blocks.\n",
    "a)\tTrue.\n",
    "b)\tFalse\n",
    "c)\tIt depends on the expression used.\n",
    "d)\tThere is no elif statement in Python.\n",
    "\n",
    "Ans: D"
   ]
  },
  {
   "cell_type": "raw",
   "metadata": {},
   "source": [
    "Q42. What is the output of the code?\n",
    "\n",
    "\n",
    "\n",
    "\n",
    "a)\t2 1\n",
    "\n",
    "b) [2, 1]\n",
    "c) 2\n",
    "0\n",
    "\n",
    "d) [2, 0]\n",
    "\n",
    "Ans: A"
   ]
  },
  {
   "cell_type": "raw",
   "metadata": {},
   "source": [
    "Q43. In the Python, for and while loop can have the optional else statement?\n",
    "a)\tOnly for loop can have the optional else statement\n",
    "b)\tOnly while loop can have the optional else statement\n",
    "c)\tBoth loops can have optional else statement\n",
    "d)\tLoops cannot have else statement in Python\n",
    "\n",
    "Ans: D"
   ]
  },
  {
   "cell_type": "raw",
   "metadata": {},
   "source": [
    "Q44. What is the output of the code?\n",
    "\n",
    "1. i = sum = 0\n",
    "2.\n",
    "3.\twhile i <= 4:\n",
    "4.\tsum += i\n",
    "5.\ti = i+1\n",
    "6.\n",
    "7. print(sum)\n",
    "\n",
    "a)\t0\n",
    "b)\t10\n",
    "c)\t4\n",
    "d)\tNone of the above\n",
    "\n",
    "Ans: B"
   ]
  },
  {
   "cell_type": "raw",
   "metadata": {},
   "source": [
    "Q45. What is the output of the code?\n",
    "\n",
    "a)\t4 is printed once\n",
    "b)\t4 is printed four times\n",
    "c)\t4 is printed infinitely until the program closes\n",
    "d)\tSyntax error\n",
    "\n",
    "Ans:C"
   ]
  },
  {
   "cell_type": "raw",
   "metadata": {},
   "source": [
    "Q46. Is it better to use the for loop instead of while if we are iterating through a sequence?\n",
    "\n",
    "a)\tNo, it’s better to use the while loop.\n",
    "b)\tYes, for loop is more pythonic choice.\n",
    "c)\tNo, we cannot iterate through a sequence using a while loop.\n",
    "d)\tNo, we cannot iterate through a sequence using loops.\n",
    "\n",
    "Ans: B"
   ]
  },
  {
   "cell_type": "raw",
   "metadata": {},
   "source": [
    "Q47. Which of the following statement is true?\n",
    "a)\t“break”- It terminates the loop containing it.\n",
    "b)\t“continue” - It is used to skip the rest of the code inside the loops.\n",
    "c)\t\tbreak and continue: These are almost always used with if, if...else and if...elif...else statements.\n",
    "d)\tAll of the above.\n",
    "\n",
    "Ans: D"
   ]
  },
  {
   "cell_type": "raw",
   "metadata": {},
   "source": [
    "Q48. What is the output of the code?\n",
    "\n",
    "1.\tfor char in 'PYTHON STRING':\n",
    "2.\tif char == ' ':\n",
    "3.\tbreak 4.\n",
    "4.\n",
    "5.print(char, end='')\n",
    "6.\n",
    "7.if char == 'O':\n",
    "8.continue\n",
    "\n",
    "a)\tPYTHON\n",
    "b)\tPYTHONSTRING\n",
    "c)\tPYTHN\n",
    "d)\tSTRING\n",
    "\n",
    "Ans: A"
   ]
  },
  {
   "cell_type": "raw",
   "metadata": {},
   "source": [
    "Q49. Which of the statement is true about the “pass” statement?\n",
    "a)\tPython interpreter- It ignores the “pass” statement like comments.\n",
    "b)\tPass statement: It terminates the loop containing pass statement.\n",
    "c)\tIt is used as the placeholder for future implementation of functions, loops, etc\n",
    "d)\tAll of the above.\n",
    "\n",
    "Ans: C"
   ]
  },
  {
   "cell_type": "raw",
   "metadata": {},
   "source": [
    "Q50. In regards to separated value files such as .csv and .tsv, what is the delimiter?\n",
    "\n",
    "a)\tAnywhere the comma (,) character is used in the file.\n",
    "b)\tDelimiters are not used in separated value files.\n",
    "c)\tAny character such as the comma (,) or tab (\\t) that is used to separate the column data.\n",
    "d)\tAny character such as the comma (,) or tab (\\t) that is used to separate the row data\n",
    "\n",
    "Ans: D"
   ]
  },
  {
   "cell_type": "raw",
   "metadata": {},
   "source": [
    "Q51. In separated value files such as .csv and .tsv, what does the first row in the file typically contain?\n",
    "\n",
    "a)\tThe column names of the data.\n",
    "b)\tThe author of the table data.\n",
    "c)\tThe source of the data\n",
    "d)\tNotes about the table data\n",
    "\n",
    "Ans: A"
   ]
  },
  {
   "cell_type": "raw",
   "metadata": {},
   "source": [
    "Q52. Assume you have a file object my_data, which has properly opened a separated value file that uses the tab character (\\t) as the delimiter.\n",
    "What is the proper way to open the file using the Python CSV module and assign it to the variable csv_reader?\n",
    "\n",
    "Assume that csv has already been imported.\n",
    "a)\tcsv.tab_reader(my_data)\n",
    "b)\tcsv.reader(my_data, delimiter='\\t')\n",
    "c)\tcsv.reader(my_data)\n",
    "d)\tcsv.reader(my_data, tab_delimited=True)\n",
    "\n",
    "Ans: B"
   ]
  },
  {
   "cell_type": "raw",
   "metadata": {},
   "source": [
    "Q53. When iterating over an object returned from csv.reader(), what is returned with each iteration?\n",
    "For example, given the following code block that assumes csv_reader is an object returned from csv.reader(), what would be printed to the console with each iteration?\n",
    "\n",
    "\n",
    "a)\tThe full line of the file as a string\n",
    "b)\tThe row data as a list\n",
    "c)\tThe individual value data that is separated by the delimiter\n",
    "d)\tThe column data as a list\n",
    "\n",
    "Ans: B"
   ]
  },
  {
   "cell_type": "raw",
   "metadata": {},
   "source": [
    "Q54. When writing to a CSV file using the .writerow() method of the csv.DictWriter object, what must each key in the\n",
    "input dict represent? Below is an example:\n",
    "\n",
    "with open('test_file.csv', mode='w') as csv_file:\n",
    "\n",
    "writer = csv.DictWriter( csv_file,\n",
    "fieldnames=['first_col', 'second_col']\n",
    ")\n",
    "writer.writeheader()\n",
    "\n",
    "# This input dictionary is what the question is referring # to and is not necessarily correct as shown. writer.writerow({'key1':'value1', 'key2':'value2'})\n",
    "\n",
    "a)\tEach key indicates the row index as an integer for where the data should go\n",
    "b)\tEach key must match up to the field names (index names) used to identify the row data\n",
    "c)\tEach key must match up to the field names (column names) used to identify the column data\n",
    "d)\tEach key indicates the column index as an integer for where the value should go\n",
    "\n",
    "Ans: A"
   ]
  },
  {
   "cell_type": "raw",
   "metadata": {},
   "source": [
    "Q55. Which is the correct way to open the CSV file hrdata.csv for reading using the pandas package? Assume that the pandas package has already been imported.\n",
    "\n",
    "a)\tpandas.open_csv('hrdata.csv', 'r')\n",
    "b)\tpandas.read_table('hrdata.csv')\n",
    "c)\tpandas.read_csv('hrdata.csv')\n",
    "d)\tpandas.open('hrdata.csv','r')\n",
    "\n",
    "Ans: C"
   ]
  },
  {
   "cell_type": "raw",
   "metadata": {},
   "source": [
    "Q56. By default, pandas uses 0-based indices for indexing rows. Which is the correct way to import the CSV file hrdata.csv\n",
    "for reading and using the 'Name' column as the index row instead?\n",
    "Below is the contents of hrdata.csv\n",
    "\n",
    "\n",
    "a)\tpandas.read_csv('hrdata.csv', index_col='Name')\n",
    "b)\tpandas.read_csv('hrdata.csv', index=0, index_col_name='Name')\n",
    "c)\tpandas.read_csv('hrdata.csv', index='Name')\n",
    "d)\tpandas.read_csv('hrdata.csv', index_col=0)\n",
    "\n",
    "Ans: A"
   ]
  },
  {
   "cell_type": "raw",
   "metadata": {},
   "source": [
    "Q57. Given the file dog_breeds.txt, which of the following is the correct way to open the file for reading as a text file? Select all that apply.\n",
    "a)\topen('dog_breeds.txt', 'w')\n",
    "b)\topen('dog_breeds.txt', 'r')\n",
    "c)\topen('dog_breeds.txt')\n",
    "d)\topen('dog_breeds.txt', 'wb')\n",
    "e)\topen('dog_breeds.txt', 'rb')\n",
    "\n",
    "Ans: B,C"
   ]
  },
  {
   "cell_type": "raw",
   "metadata": {},
   "source": [
    "Q58. Given the following directory structure:\n",
    "\n",
    "animals/\n",
    "│\n",
    "├── feline/\n",
    "│ ├── lions.gif\n",
    "│ └── tigers.gif\n",
    "│\n",
    "├── ursine/\n",
    "│ └── bears.gif\n",
    "│\n",
    "└── animals.csv\n",
    "\n",
    "Assuming that the cwd is in the root folder where animals reside, what is the full path to\n",
    "the feline folder?\n",
    "\n",
    "Ans: animals/feline"
   ]
  },
  {
   "cell_type": "raw",
   "metadata": {},
   "source": [
    "Q59. Given the file jack_russell.png, which of the following is the correct way to open the file for reading as a buffered binary file? Select all that apply.\n",
    "\n",
    "a) open('jack_russell.png', 'rb') \n",
    "b) open('jack_russell.png', bytes=True) \n",
    "c) open('jack_russell.png', 'r') \n",
    "d) open('jack_russell.png') \n",
    "e) open('jack_russell.png', 'wb')\n",
    "\n",
    "And: B"
   ]
  },
  {
   "cell_type": "raw",
   "metadata": {},
   "source": [
    "Q60. Using the same directory structure as before:\n",
    "    \n",
    "animals/\n",
    "│\n",
    "├── feline/\n",
    "│ ├── lions.gif\n",
    "│ └── tigers.gif\n",
    "│\n",
    "├── ursine/\n",
    "│ └── bears.gif\n",
    "│\n",
    "└── animals.csv\n",
    "\n",
    "Assuming that the cwd is in the root folder where Animals reside, what is the full path to\n",
    "the file bears.gif?\n",
    "\n",
    "Ans: animals/ursine"
   ]
  },
  {
   "cell_type": "raw",
   "metadata": {},
   "source": [
    "Q61. Whenever possible, what is the recommended way to ensure that a file object is properly closed after usage?\n",
    "\n",
    "a)\tMaking sure that you use the .close() method before the end of the script\n",
    "b)\tIt doesn’t matter\n",
    "c)\tBy using the try/finally block\n",
    "d)\tBy using the with statement\n",
    "\n",
    "Ans: A"
   ]
  },
  {
   "cell_type": "raw",
   "metadata": {},
   "source": [
    "Q62. Using the same directory structure as before:\n",
    "\n",
    "animals/\n",
    "│\n",
    "├── feline/ ← cwd\n",
    "│ ├── lions.gif\n",
    "│ └── tigers.gif\n",
    "│\n",
    "├── ursine/\n",
    "│ └── bears.gif\n",
    "│\n",
    "└── animals.csv\n",
    "   \n",
    "\n",
    "Assuming that the cwd is in the feline folder, what is the relative path to the\n",
    "file bears.gif?\n",
    "\n",
    "Ans: animals/ursine"
   ]
  },
  {
   "cell_type": "raw",
   "metadata": {},
   "source": [
    "Q63. When reading a file using the file object, what method is best for reading the entire file into a single string?\n",
    "a)\t.read_file_to_str()\n",
    "b)\t.read()\n",
    "c)\t.readlines()\n",
    "d)\t.readline()\n",
    "\n",
    "Ans: C"
   ]
  },
  {
   "cell_type": "raw",
   "metadata": {},
   "source": [
    "Q64. The value 1.73 rounded to one decimal place using the “rounding up” strategy is…\n",
    "a)   1.8\n",
    "b) 1.7\n",
    "\n",
    "Ans: B"
   ]
  },
  {
   "cell_type": "raw",
   "metadata": {},
   "source": [
    "Q65. The value -2.961 rounded to two decimal places using the “rounding down” strategy is…\n",
    "a) -2.96\n",
    "b) -2.97\n",
    "\n",
    "Ans: A"
   ]
  },
  {
   "cell_type": "raw",
   "metadata": {},
   "source": [
    "Q66. When a value is truncated to 3 decimal places, which of the following is true?\n",
    "a)\tPositive numbers are rounded up, and negative numbers are rounded down.\n",
    "b)\tPositive numbers are rounded down, and negative numbers are rounded up.\n",
    "c)\tBoth positive and negative numbers are rounded up.\n",
    "d)\tBoth positive and negative numbers are rounded down.\n",
    "\n",
    "Ans: A"
   ]
  },
  {
   "cell_type": "raw",
   "metadata": {},
   "source": [
    "Q67. The value -0.045 rounded to 2 decimal places using the “round half away from zero” strategy is…\n",
    "a) -0.05\n",
    "b)  -0.04\n",
    "\n",
    "Ans: B"
   ]
  },
  {
   "cell_type": "raw",
   "metadata": {},
   "source": [
    "Q68. Which rounding strategy does Python’s built-in round() function use?\n",
    "a)\tRound half down\n",
    "b)\tRound half away from zero\n",
    "c)\tRound half up\n",
    "d)\tRound half to even\n",
    "\n",
    "Ans: B"
   ]
  },
  {
   "cell_type": "raw",
   "metadata": {},
   "source": [
    "Q69. The value 4.65 rounded to one decimal place using the “round half to even” strategy is…\n",
    "a)   4.6\n",
    "b)  4.7\n",
    "\n",
    "Ans: A"
   ]
  },
  {
   "cell_type": "raw",
   "metadata": {},
   "source": [
    "Q70. Which problem arises due to the multiple inheritances, if hierarchical inheritance is used previously for its base classes?\n",
    "\n",
    "\n",
    "a)\tDiamond \n",
    "b) Circle\n",
    "c) Triangle \n",
    "d) Loop\n",
    "\n",
    "Ans: A"
   ]
  },
  {
   "cell_type": "raw",
   "metadata": {},
   "source": [
    "Q71. How many classes should a program contain to implement the multiple inheritances?\n",
    "\n",
    "a) Only 1 \n",
    "b) At least 1 \n",
    "c) At least 3 \n",
    "d) Exactly 3\n",
    "\n",
    "Ans: D"
   ]
  },
  {
   "cell_type": "raw",
   "metadata": {},
   "source": [
    "Q72. If class a inherits class b and class c as “class a: public class b, public class c {// class body ;}; ”, which class constructor will be called first?\n",
    "\n",
    "a) Class a. \n",
    "b) Class b. \n",
    "c) Class c.\n",
    "d) All together.\n",
    "\n",
    "Ans: B"
   ]
  },
  {
   "cell_type": "raw",
   "metadata": {},
   "source": [
    "Q73.If all the members of all base classes are private then,\n",
    "\n",
    "a) There won’t be any use of multiple inheritance \n",
    "b) It will make all members as public.\n",
    "c) Derived class can still access them in the multiple inheritance \n",
    "d) Compile-time error\n",
    "\n",
    "Ans: A"
   ]
  },
  {
   "cell_type": "raw",
   "metadata": {},
   "source": [
    "Q74. Can the derived class be made abstract if multiple inheritance is used?\n",
    "a)\tNo, because other classes must be abstract too\n",
    "b)\tYes, if all the functions are implemented\n",
    "c)\tYes, if all the methods are predefined \n",
    "d) No, since constructors won’t be there\n",
    "\n",
    "Ans: A"
   ]
  },
  {
   "cell_type": "raw",
   "metadata": {},
   "source": [
    "Q75. Which among the following best defines the multilevel inheritance?\n",
    "\n",
    "a)\tA class derived from another derived class\n",
    "b)\tClasses being derived from other derived classes \n",
    "c) Continuing single level inheritance\n",
    "d) Class which have more than one parent\n",
    "\n",
    "Ans: A"
   ]
  },
  {
   "cell_type": "raw",
   "metadata": {},
   "source": [
    "Q76. If there are 5 classes, E is derived from D, D from C, C from B and B from A. Which class constructor will be called first if the object of E or D is created?\n",
    "\n",
    "a)\tA\n",
    "b)\tB\n",
    "c)\tC\n",
    "d)\tA and B\n",
    "\n",
    "Ans: A"
   ]
  },
  {
   "cell_type": "raw",
   "metadata": {},
   "source": [
    "Q77. Which Class is having the highest degree of abstraction in\n",
    " \tmultilevel inheritance of 5 levels?\n",
    "\n",
    "a) Class at 1st level \n",
    "b) Class 2nd last level \n",
    "c) Class at 5th level\n",
    "d) All with same abstraction\n",
    "\n",
    "Ans: D"
   ]
  },
  {
   "cell_type": "raw",
   "metadata": {},
   "source": [
    "Q78. Multilevel inheritance allows \tin the program.\n",
    "a) Only 7 levels of inheritance \n",
    "b) At least 7 levels of inheritance\n",
    "c)\tAt most 16 levels of inheritance\n",
    "d)\tAs many levels of inheritance as required\n",
    "\n",
    "Ans: D"
   ]
  },
  {
   "cell_type": "raw",
   "metadata": {},
   "source": [
    "Q79. If all the classes used parameterized constructors and no default constructor then,\t\n",
    "\n",
    "a)\tThe object of lower-level classes can’t be created\n",
    "b)\tObject of lower-level classes must call parent class constructors explicitly\n",
    "c)\tObject of lower-level classes must define all the default constructors\n",
    "d)\tOnly object of first-class can be created, which is first-parent\n",
    "\n",
    "Ans: B"
   ]
  },
  {
   "cell_type": "raw",
   "metadata": {},
   "source": [
    "Q80. Which is the universal exception handler class?\n",
    "\n",
    "a) Object \n",
    "b) Math \n",
    "c) Errors\n",
    "d) Exceptions\n",
    "\n",
    "Ans: D"
   ]
  },
  {
   "cell_type": "raw",
   "metadata": {},
   "source": [
    "Q81. What are two exception classes in the hierarchy of java exceptions class?\n",
    "\n",
    "a)\tRuntime exceptions only\n",
    "b)\tCompile-time exceptions only\n",
    "c)\tRuntime exceptions and other exceptions \n",
    "d) Other exceptions\n",
    "\n",
    "Ans: A,B"
   ]
  },
  {
   "cell_type": "raw",
   "metadata": {},
   "source": [
    "Q82. Which are the two blocks that are used to check error and handle the error?\n",
    "\n",
    "a)\tTry and catch\n",
    "b)\tTrying and catching \n",
    "c) Do and while\n",
    "d) TryDo and Check\n",
    "\n",
    "Ans: A"
   ]
  },
  {
   "cell_type": "raw",
   "metadata": {},
   "source": [
    "Q83. To catch the exceptions\t\n",
    "\n",
    "a) An object must be created to catch the exception \n",
    "b) A variable should be created to catch the exception\n",
    "c) An array should be created to catch all the exceptions \n",
    "d) A string has to be created to store exception\n",
    "\n",
    "Ans: A"
   ]
  },
  {
   "cell_type": "raw",
   "metadata": {},
   "source": [
    "Q84. Which class is used to handle the input and output exceptions?\n",
    "\n",
    "a)\tInputOutput\n",
    "b)\tInputOutputExceptions \n",
    "c) IOExceptions\n",
    "d) ExceptionsIO\n",
    "\n",
    "Ans: D"
   ]
  },
  {
   "cell_type": "raw",
   "metadata": {},
   "source": [
    "Q85. Which among the following is true for the class exceptions?\n",
    "\n",
    "a) Only base class can give rise to the exceptions \n",
    "b) Only derived class can give rise to exceptions\n",
    "c)\tEither base or derived class may produce exceptions\n",
    "d)\tBoth base class and derived class may produce exceptions\n",
    "\n",
    "Ans: A"
   ]
  },
  {
   "cell_type": "raw",
   "metadata": {},
   "source": [
    "Q86. If both base and derived class caught the exceptions, \t.\n",
    "a) Then catch block of a derived class must be defined before the base class \n",
    "b) Then catch block of the base class must be defined before the derived class \n",
    "c) Then catch block of base and derived classes don't matter.\n",
    "d) catch block of the base and derived classes are not mandatory to be defined\n",
    "\n",
    "Ans: A"
   ]
  },
  {
   "cell_type": "raw",
   "metadata": {},
   "source": [
    "Q87.  The catching of base class the exception \tin java.\n",
    "\n",
    "a) After derived class is not allowed by the compiler \n",
    "b) Before derived class is not allowed by the compiler \n",
    "c) Before derived class is allowed\n",
    "d) After derived class can’t be done\n",
    "\n",
    "Ans: A"
   ]
  },
  {
   "cell_type": "raw",
   "metadata": {},
   "source": [
    "Q88. Which of the following handles the undefined class in the\n",
    " \tprogram?\n",
    "\n",
    "a) ClassNotFound \n",
    "b) NoClassException\n",
    "c)\tClassFoundException\n",
    "d)\tClassNotFoundException\n",
    "\n",
    "Ans: D"
   ]
  },
  {
   "cell_type": "raw",
   "metadata": {},
   "source": [
    "Q89. Which among the following is true?\n",
    "\n",
    "a) Only the base class catch the blocks are important. \n",
    "b) Only the derived class catch blocks are important.\n",
    "c)\tBoth the base and derived class catch the blocks are important.\n",
    "d)\tIf the base and derived classes both produce exceptions, the program doesn’t run.\n",
    "\n",
    "Ans: A"
   ]
  },
  {
   "cell_type": "raw",
   "metadata": {},
   "source": [
    "Q90. Which condition among the following might result in memory exception?\n",
    "\n",
    "a)\tFalse if conditions\n",
    "b)\tNested if conditions that are all false \n",
    "c) Infinite loops\n",
    "d) The loop that runs exactly 99 times\n",
    "\n",
    "Ans: C"
   ]
  },
  {
   "cell_type": "raw",
   "metadata": {},
   "source": [
    "Q91. Which among the following is the correct definition for static\n",
    " \tmember functions?\n",
    "\n",
    "a)\tFunctions created to allocate the constant values to each object\n",
    "b)\tFunctions made to maintain a single copy of member functions for all the objects \n",
    "c) Functions created to define the static members\n",
    "d) Functions made to manipulate the static programs\n",
    "\n",
    "Ans: A,D"
   ]
  },
  {
   "cell_type": "raw",
   "metadata": {},
   "source": [
    "Q92. The static member functions\t\n",
    "\n",
    "a)\tHaving access to all the members of the class.\n",
    "b)\tHaving access to only constant members of a class.\n",
    "c)\tHaving access to only the static members of a class.\n",
    "d)\tHaving direct access to all other class members also\n",
    "\n",
    "Ans: C"
   ]
  },
  {
   "cell_type": "raw",
   "metadata": {},
   "source": [
    "Q93. Which is the correct syntax to access the static member functions\n",
    " \twith a class name?\n",
    "\n",
    "a) className . functionName; \n",
    "b) className -> functionName; \n",
    "c) className : functionName; \n",
    "d) className :: functionName; \n",
    "\n",
    "Ans: D"
   ]
  },
  {
   "cell_type": "raw",
   "metadata": {},
   "source": [
    "Q94. The static members are\t\n",
    "\n",
    "a) Created with each new object. \n",
    "b) Created twice in the program.\n",
    "c) Created as many times, the class is being used. \n",
    "d) Created and initialised, only once\n",
    "\n",
    "Ans: D"
   ]
  },
  {
   "cell_type": "raw",
   "metadata": {},
   "source": [
    "Q95. Which among the following is true?\n",
    "\n",
    "a) Static member functions can be overloaded. \n",
    "b) Static member functions can’t be overloaded.\n",
    "c) Static member functions can be overloaded using the derived classes. \n",
    "d) Static member functions are implicitly overloaded.\n",
    "\n",
    "Ans: B"
   ]
  },
  {
   "cell_type": "raw",
   "metadata": {},
   "source": [
    "Q96. The static member functions\t\n",
    "\n",
    "a) Can’t be declared const. \n",
    "b) Can’t be declared volatile.\n",
    "c)\tCan’t be declared const or volatile.\n",
    "d)\tCan’t be declared const, volatile, or constant volatile.\n",
    "\n",
    "And: D"
   ]
  },
  {
   "cell_type": "raw",
   "metadata": {},
   "source": [
    "Q97. Which among the following can’t be used to access the members in anyway?\n",
    "\n",
    "a) Scope resolution. \n",
    "b) Arrow operator. \n",
    "c) Single colon.\n",
    "d) Dot operator.\n",
    "\n",
    "Ans: D"
   ]
  },
  {
   "cell_type": "raw",
   "metadata": {},
   "source": [
    "Q98. If static data member are made inline,\t\n",
    "\n",
    "a) Those should be initialised outside of the class. \n",
    "b) Those can’t be initialised with the class.\n",
    "c) Those can be initialised within the class. \n",
    "d) Class members can't use those.\n",
    "\n",
    "Ans: C"
   ]
  },
  {
   "cell_type": "raw",
   "metadata": {},
   "source": [
    "Q99. The static data member\t\n",
    "\n",
    "a) It can be mutable. \n",
    "b) Can’t be mutable.\n",
    "c) Can’t be an integer. \n",
    "d) Can’t be characters.\n",
    "\n",
    "Ans: B"
   ]
  },
  {
   "cell_type": "raw",
   "metadata": {},
   "source": [
    "Q100. We can use the static member functions and static data member.\n",
    "\n",
    "a) Even if a class object is not created \n",
    "b) Even if a class is not defined\n",
    "c) Even if a class doesn’t contain any static member \n",
    "d) Even if a class doesn’t have a complete definition\n",
    "\n",
    "Ans: A"
   ]
  },
  {
   "cell_type": "raw",
   "metadata": {},
   "source": [
    "Q101. Point out the wrong statement:\n",
    "\n",
    "a) ipython is an enhanced interactive python shell. \n",
    "b) Matplotlib: It enables us to plot graphics.\n",
    "c) rPy provides lots of scientific routines that work on top of NumPy. \n",
    "d) all of the mentioned.\n",
    "\n",
    "Ans: C"
   ]
  },
  {
   "cell_type": "raw",
   "metadata": {},
   "source": [
    "Q102. The function returns its argument with the modified shape, whereas the method modifies the array itself.\n",
    "\n",
    "a) reshape, resize. \n",
    "b) resize, reshape. \n",
    "c) reshape2,resize.\n",
    "d) all of the mentioned.\n",
    "\n",
    "Ans: D"
   ]
  },
  {
   "cell_type": "raw",
   "metadata": {},
   "source": [
    "Q103. To create sequences of the numbers, NumPy provides a function analogous to range that returns arrays instead of lists.\n",
    "\n",
    "a) arrange. \n",
    "b) aspace. \n",
    "c) aline.\n",
    "d) all of the mentioned.\n",
    "\n",
    "Ans: A"
   ]
  },
  {
   "cell_type": "raw",
   "metadata": {},
   "source": [
    "Q104. Point out the correct statement:\n",
    "\n",
    "a) NumPy main object is the Homogeneous -Multidimensional array. \n",
    "b) In Numpy, dimensions are called axes.\n",
    "c) Numpy array class is called ndarray. \n",
    "d) All of the Mentioned\n",
    "\n",
    "Ans: D"
   ]
  },
  {
   "cell_type": "raw",
   "metadata": {},
   "source": [
    "Q105. Which of the following function stack 1D array as the columns into the 2D array?\n",
    "\n",
    "a)\trow_stack.\n",
    "b)\tcolumn_stack. \n",
    "c) com_stack.\n",
    "d) all of the mentioned.\n",
    "\n",
    "Ans: B"
   ]
  },
  {
   "cell_type": "raw",
   "metadata": {},
   "source": [
    "Q106. ndarray is also known as an alias array.\n",
    "\n",
    "a) True \n",
    "b) False\n",
    "\n",
    "Ans: A"
   ]
  },
  {
   "cell_type": "raw",
   "metadata": {},
   "source": [
    "Q107. Which of the following method creates the new array object that looks at the same data?\n",
    "\n",
    "a)\tview.\n",
    "b)\tcopy.\n",
    "c)\tpaste.\n",
    "d)\tall of the mentioned.\n",
    "\n",
    "Ans: B"
   ]
  },
  {
   "cell_type": "raw",
   "metadata": {},
   "source": [
    "Q108. Which of the functions can be used to combine the\tdifferent vectors to obtain the result for each n-uplet?\n",
    "\n",
    "a) iid_. \n",
    "b) ix_. \n",
    "c) ixd_.\n",
    "d) all of the mentioned.\n",
    "\n",
    "Ans: B"
   ]
  },
  {
   "cell_type": "raw",
   "metadata": {},
   "source": [
    "Q109. ndarray.dataitemSize is the buffer containing actual\telements of an array.\n",
    "\n",
    "a) True \n",
    "b) False\n",
    "\n",
    "Ans: A"
   ]
  },
  {
   "cell_type": "raw",
   "metadata": {},
   "source": [
    "Q110. Which of the following is in the NumPy library?\n",
    "a)\tThe n-dimensional array object\n",
    "b)\tThe tools for integrating C/C++ and the Fortran code \n",
    "c) Fourier transform\n",
    "d) all of the Mentioned\n",
    "\n",
    "Ans: A"
   ]
  },
  {
   "cell_type": "raw",
   "metadata": {},
   "source": [
    "Q111. Which of the following sets the size of the buffer used in ufuncs ?\n",
    "\n",
    "a) bufsize(size) \n",
    "b) setsize(size)\n",
    "c)\tsetbufsize(size)\n",
    "d)\tall of the Mentioned\n",
    "\n",
    "Ans: C"
   ]
  },
  {
   "cell_type": "raw",
   "metadata": {},
   "source": [
    "Q112. Point out the wrong statement:\n",
    "\n",
    "a)\tA universal function is the function that operates upon the “ndarrays” in an element-by-element fashion\n",
    "b)\tIn Numpy, universal functions are the instances of numpy.ufunction class \n",
    "c) Many of the built-in functions are implemented in compiled C code\n",
    "d) All of the Mentioned\n",
    "\n",
    "Ans: B"
   ]
  },
  {
   "cell_type": "raw",
   "metadata": {},
   "source": [
    "Q113. Which of the following attribute should be used while checking the type combination input and output?\n",
    "\n",
    "a) .types \n",
    "b) .type \n",
    "c) .class\n",
    "d) all of the Mentioned\n",
    "\n",
    "Ans: A"
   ]
  },
  {
   "cell_type": "raw",
   "metadata": {},
   "source": [
    "Q114. Which of the following returns an array of “ones” with the same shape and type as a given array?\n",
    "\n",
    "a) all_like \n",
    "b) ones_like \n",
    "c) one_alike\n",
    "d) all of the Mentioned\n",
    "\n",
    "Ans: B"
   ]
  },
  {
   "cell_type": "raw",
   "metadata": {},
   "source": [
    "Q115. Point out the wrong statement:\n",
    "\n",
    "a)\tEach universal function takes an array input and produces array outputs\n",
    "b)\tBroadcasting is used throughout NumPy to decide how to handle the disparately shaped arrays\n",
    "c)\tThe output of the ufunc is necessarily a ndarray, if all the input arguments are ndarrays\n",
    "d)\tAll of the Mentioned\n",
    "\n",
    "Ans: C"
   ]
  },
  {
   "cell_type": "raw",
   "metadata": {},
   "source": [
    "Q116. Which of the following set of a floating-point error callback\tfunction or a log object?\n",
    "\n",
    "a)\tsetter.\n",
    "b)\tsettercall. \n",
    "c) setterstack.\n",
    "d) all of the mentioned.\n",
    "\n",
    "Ans: B"
   ]
  },
  {
   "cell_type": "raw",
   "metadata": {},
   "source": [
    "Q117. Some ufuncs can take output arguments.\n",
    "\n",
    "a) True \n",
    "b) False\n",
    "\n",
    "Ans: B"
   ]
  },
  {
   "cell_type": "raw",
   "metadata": {},
   "source": [
    "Q118. \tdecompose the elements of x into the mantissa and the two’s exponent.\n",
    "\n",
    "a) trunc \n",
    "b) fmod \n",
    "c) frexp \n",
    "d) ldexp\n",
    "\n",
    "Ans: C"
   ]
  },
  {
   "cell_type": "raw",
   "metadata": {},
   "source": [
    "Q119. Which of the following function take the only a single value as input?\n",
    "\n",
    "a) iscomplex. \n",
    "b) minimum. \n",
    "c) fmin.\n",
    "d) all of the mentioned.\n",
    "\n",
    "Ans: A"
   ]
  },
  {
   "cell_type": "raw",
   "metadata": {},
   "source": [
    "Q120. The array object returned by the _array_prepare_ is passed to ufunc for computation.\n",
    "\n",
    "a) True \n",
    "b) False\n",
    "\n",
    "Ans: A"
   ]
  },
  {
   "cell_type": "raw",
   "metadata": {},
   "source": [
    "Q121. All pandas data structures are \tmutable but not always\t-mutable.\n",
    "\n",
    "a) size,value. \n",
    "b) semantic,size. \n",
    "c) value,size.\n",
    "d) none of the mentioned.\n",
    "\n",
    "Ans: C"
   ]
  },
  {
   "cell_type": "raw",
   "metadata": {},
   "source": [
    "Q122. Point out the correct statement:\n",
    "\n",
    "a)\tPandas consist of a set of the labelled array data structures\n",
    "b)\tPandas consist of an integrated group by the engine for aggregating and the transforming data sets\n",
    "c)\tPandas consist of moving window statistics \n",
    "d) All of the above mentioned.\n",
    "\n",
    "Ans: D"
   ]
  },
  {
   "cell_type": "raw",
   "metadata": {},
   "source": [
    "Q123. Which of the following statement will import the pandas?\n",
    "\n",
    "a) import pandas as pd \n",
    "b) import panda as py\n",
    "c) import pandaspy as pd \n",
    "d) all of the Mentioned\n",
    "\n",
    "Ans: A"
   ]
  },
  {
   "cell_type": "raw",
   "metadata": {},
   "source": [
    "Q124. Which of the following object did we get after reading the CSV file?\n",
    "\n",
    "a)\tDataFrame.\n",
    "b)\tCharacter Vector. \n",
    "c) Panel.\n",
    "d) All of the Mentioned\n",
    "\n",
    "Ans: A"
   ]
  },
  {
   "cell_type": "raw",
   "metadata": {},
   "source": [
    "Q125. Point out the wrong statement:\n",
    "\n",
    "a)\tSeries is 1D labelled homogeneously-typed array.\n",
    "b)\tDataFrame is a general 2D labelled, size-mutable tabular structure with the potentially heterogeneously-typed columns.\n",
    "c)\tThe panel is generally 2D labelled, also a size-mutable array. \n",
    "d) None of the Mentioned.\n",
    "\n",
    "Ans: C"
   ]
  },
  {
   "cell_type": "raw",
   "metadata": {},
   "source": [
    "Q126. Which of the following library is similar to the pandas?\n",
    "a) numpy. \n",
    "b) RPy. \n",
    "c) OutPy.\n",
    "d) None of the mentioned.\n",
    "\n",
    "Ans: A"
   ]
  },
  {
   "cell_type": "raw",
   "metadata": {},
   "source": [
    "Q127. Panel is a container for the Series, and DataFrame is a container for DataFrame objects.\n",
    "\n",
    "a) True \n",
    "b) False\n",
    "\n",
    "Ans: B"
   ]
  },
  {
   "cell_type": "raw",
   "metadata": {},
   "source": [
    "Q128. Which of the following is the prominent python “statistics and econometrics library”?\n",
    "\n",
    "a) Bokeh. \n",
    "b) Seaborn.\n",
    "c)\tStatsmodels.\n",
    "d)\tNone of the mentioned.\n",
    "\n",
    "Ans: B"
   ]
  },
  {
   "cell_type": "raw",
   "metadata": {},
   "source": [
    "Q129. Which of the following is the foundational exploratory visualisation package for the R language in the pandas ecosystem?\n",
    "\n",
    "a)\tyhat.\n",
    "b)\tSeaborn. \n",
    "c) Vincent.\n",
    "d) None of the mentioned.\n",
    "\n",
    "Ans: A"
   ]
  },
  {
   "cell_type": "raw",
   "metadata": {},
   "source": [
    "Q130. Pandas consist of static and the moving window linear and panel regression.\n",
    "\n",
    "a) True \n",
    "b) False\n",
    "\n",
    "Ans: A"
   ]
  },
  {
   "cell_type": "raw",
   "metadata": {},
   "source": [
    "Q131. Quandl API for Python wraps the \tREST API to returns the pandas DataFrames with time series indexes.\n",
    "\n",
    "a)\tQuandl.\n",
    "b)\tPyDatastream. \n",
    "c) PyData.\n",
    "d) None of the Mentioned.\n",
    "\n",
    "Ans: A"
   ]
  },
  {
   "cell_type": "raw",
   "metadata": {},
   "source": [
    "Q132. Point out the correct statement:\n",
    "\n",
    "a)\tStatsmodels provides powerful statistics, econometrics, analysis and the modelling functionality which is out of pandas’ scope\n",
    "b)\tVintage leverages pandas objects as an underlying data container for the computation\n",
    "c)\tBokeh is a Python interactive visualisation library for the small datasets \n",
    "d) All of the Mentioned\n",
    "\n",
    "Ans: A"
   ]
  },
  {
   "cell_type": "raw",
   "metadata": {},
   "source": [
    "Q133.Which of the following library is used to retrieve and to acquire statistical data and metadata disseminated in SDMX 2.1?\n",
    "\n",
    "a) pandaSDMX \n",
    "b) freedapi\n",
    "c)\tGeopandas.\n",
    "d)\tAll of the Mentioned.\n",
    "\n",
    "Ans: A"
   ]
  },
  {
   "cell_type": "raw",
   "metadata": {},
   "source": [
    "Q134. Which of the following provides the standard API for doing computations with MongoDB?\n",
    "\n",
    "a)\tBlaze.\n",
    "b)\tGeopandas.\n",
    "c) FRED.\n",
    "d) All of the Mentioned.\n",
    "\n",
    "Ans: A"
   ]
  },
  {
   "cell_type": "raw",
   "metadata": {},
   "source": [
    "Q135. Point out the wrong statement:\n",
    "\n",
    "a)\tqgrid is an interactive grid for sorting and the filtering DataFrames\n",
    "b)\tPandas DataFrames implement _repr_html_ methods which are utilised by the IPython Notebook\n",
    "c)\tSpyder is a cross-platform Qt-based open-source R IDE \n",
    "d) None of the Mentioned\n",
    "\n",
    "Ans: C"
   ]
  },
  {
   "cell_type": "raw",
   "metadata": {},
   "source": [
    "Q136. Which of the following makes use of the pandas and returns ata in a Series or DataFrame?\n",
    "\n",
    "a) pandaSDMX. \n",
    "b) freedapi.\n",
    "c)\tOutPy.\n",
    "d)\tnone of the mentioned.\n",
    "\n",
    "Ans: B"
   ]
  },
  {
   "cell_type": "raw",
   "metadata": {},
   "source": [
    "Q137. Spyder can introspect and display Pandas DataFrames.\n",
    "\n",
    "a) True \n",
    "b) False\n",
    "\n",
    "Ans: A"
   ]
  },
  {
   "cell_type": "raw",
   "metadata": {},
   "source": [
    "Q138. Which of the following is used for machine learning in the python?\n",
    "\n",
    "a) sci-kit-learn. \n",
    "b) seaborn-learn. \n",
    "c) stats-learn.\n",
    "d) none of the mentioned.\n",
    "\n",
    "Ans: A"
   ]
  },
  {
   "cell_type": "raw",
   "metadata": {},
   "source": [
    "Q139. The \tproject builds on top of the pandas and matplotlib to provide easy plotting of data.\n",
    "\n",
    "a)\tyhat.\n",
    "b)\tSeaborn. \n",
    "c) Vincent.\n",
    "d) None of the mentioned.\n",
    "\n",
    "Ans: B"
   ]
  },
  {
   "cell_type": "raw",
   "metadata": {},
   "source": [
    "Q140 x-ray brings the labelled data power of pandas to the physical sciences.\n",
    "\n",
    "a) True \n",
    "b) False\n",
    "\n",
    "Ans: A"
   ]
  },
  {
   "cell_type": "raw",
   "metadata": {},
   "source": [
    "Q141. Which of the following is the base layer of all of the sparse has it indexed data structures?\n",
    "\n",
    "a)\tSArray.\n",
    "b)\tSparseArray. \n",
    "c) PyArray.\n",
    "d) None of the mentioned.\n",
    "\n",
    "Ans: B"
   ]
  },
  {
   "cell_type": "raw",
   "metadata": {},
   "source": [
    "Q142. Point out the correct statement.\n",
    "\n",
    "a)\tAll of the standard pandas data structures have to_sparse method\n",
    "b)\tAny sparse object can be converted back to the standard dense form by calling the to_dense\n",
    "c)\tThe sparse objects exist for memory efficiency reasons. \n",
    "d) All of the mentioned.\n",
    "\n",
    "Ans: D"
   ]
  },
  {
   "cell_type": "raw",
   "metadata": {},
   "source": [
    "Q143. Which of the following is not an indexed object?\n",
    "\n",
    "a)\tSparseSeries.\n",
    "b)\tSparseDataFrame. \n",
    "c) SparsePanel.\n",
    "d) None of the mentioned.\n",
    "\n",
    "Ans: D"
   ]
  },
  {
   "cell_type": "raw",
   "metadata": {},
   "source": [
    "Q144. Which of the following list like data structure is used for managing the dynamic collection of SparseArrays?\n",
    "\n",
    "a) SparseList. \n",
    "b) GeoList.\n",
    "c)\tSparseSeries.\n",
    "d)\tAll of the mentioned.\n",
    "\n",
    "Ans: A"
   ]
  },
  {
   "cell_type": "raw",
   "metadata": {},
   "source": [
    "Q145. Point out the wrong statement.\n",
    "\n",
    "a) to_array. append can accept scalar values or any 2-D sequence. \n",
    "b) Two kinds of SparseIndex are implemented.\n",
    "c)\tThe integer format keeps an arrays of all locations, where the data are not equal to the fill value.\n",
    "d)\tNone of the mentioned.\n",
    "\n",
    "Ans: A"
   ]
  },
  {
   "cell_type": "raw",
   "metadata": {},
   "source": [
    "Q146. Which of the following method used for transforming the Sparse-series index by the MultiIndex to a scipy.sparse.coo_matrix?\n",
    "\n",
    "a) SparseSeries.to_coo(). \n",
    "b) Series.to_coo().\n",
    "c) SparseSeries.to_cooser(). \n",
    "d) None of the mentioned.\n",
    "\n",
    "Ans: A"
   ]
  },
  {
   "cell_type": "raw",
   "metadata": {},
   "source": [
    "Q147. The integer format tracks only the locations and the sizes of blocks of data.\n",
    "\n",
    "a) True \n",
    "b) False\n",
    "\n",
    "Ans: B"
   ]
  },
  {
   "cell_type": "raw",
   "metadata": {},
   "source": [
    "Q148. Which of the following is used for the testing for membership in the list of column names?\n",
    "\n",
    "a)\tin.\n",
    "b)\tout.\n",
    "c)\telse if.\n",
    "d)\tnone of the mentioned.\n",
    "\n",
    "Ans: A"
   ]
  },
  {
   "cell_type": "raw",
   "metadata": {},
   "source": [
    "Q149. Which of the following indexing capabilities is used as the concise means of selecting data from a pandas object?\n",
    "\n",
    "a)\tIn.\n",
    "b)\tix.\n",
    "c)\tipy.\n",
    "d)\tnone of the mentioned.\n",
    "\n",
    "Ans: B"
   ]
  },
  {
   "cell_type": "raw",
   "metadata": {},
   "source": [
    "Q150. Pandas follow the NumPy convention of raising an error when you try to convert something to a bool.\n",
    "\n",
    "a) True \n",
    "b) False\n",
    "\n",
    "Ans: A"
   ]
  }
 ],
 "metadata": {
  "kernelspec": {
   "display_name": "Python 3",
   "language": "python",
   "name": "python3"
  },
  "language_info": {
   "codemirror_mode": {
    "name": "ipython",
    "version": 3
   },
   "file_extension": ".py",
   "mimetype": "text/x-python",
   "name": "python",
   "nbconvert_exporter": "python",
   "pygments_lexer": "ipython3",
   "version": "3.7.6"
  }
 },
 "nbformat": 4,
 "nbformat_minor": 2
}
